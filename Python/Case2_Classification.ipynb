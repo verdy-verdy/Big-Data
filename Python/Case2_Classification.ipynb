{
  "nbformat": 4,
  "nbformat_minor": 0,
  "metadata": {
    "colab": {
      "name": "case2.ipynb",
      "provenance": [],
      "collapsed_sections": []
    },
    "kernelspec": {
      "name": "python3",
      "display_name": "Python 3"
    }
  },
  "cells": [
    {
      "cell_type": "code",
      "metadata": {
        "id": "UGG-WtsuhOR5"
      },
      "source": [
        "!apt-get install openjdk-8-jdk-headless -qq > /dev/null\n",
        "!wget -q https://downloads.apache.org/spark/spark-3.0.0-preview2/spark-3.0.0-preview2-bin-hadoop2.7.tgz\n",
        "!tar -xvf spark-3.0.0-preview2-bin-hadoop2.7.tgz\n",
        "!pip install -q findspark\n",
        "import os\n",
        "os.environ[\"JAVA_HOME\"] = \"/usr/lib/jvm/java-8-openjdk-amd64\"\n",
        "os.environ[\"SPARK_HOME\"] = \"/content/spark-3.0.0-preview2-bin-hadoop2.7\"\n",
        "import findspark\n",
        "findspark.init()\n"
      ],
      "execution_count": null,
      "outputs": []
    },
    {
      "cell_type": "code",
      "metadata": {
        "id": "IzoCVxjNhVjI"
      },
      "source": [
        "from pyspark.sql import SparkSession\n",
        "from pyspark.sql.functions import when \n",
        "from pyspark.ml.feature import VectorAssembler \n",
        "from pyspark.ml.feature import StandardScaler\n",
        "from pyspark.ml.classification import LogisticRegression\n",
        "from pyspark.ml.evaluation import BinaryClassificationEvaluator"
      ],
      "execution_count": null,
      "outputs": []
    },
    {
      "cell_type": "code",
      "metadata": {
        "id": "5Sn426nBhVmO"
      },
      "source": [
        "spark = SparkSession.builder.getOrCreate()"
      ],
      "execution_count": null,
      "outputs": []
    },
    {
      "cell_type": "code",
      "metadata": {
        "id": "EA1OkUhghVtb"
      },
      "source": [
        "train_data = spark.read.option(\"inferSchema\", \"true\").csv(\"Planet_Training.csv\", header=True)\n",
        "test_data = spark.read.option(\"inferSchema\", \"true\").csv(\"Planet_Testing.csv\", header=True)"
      ],
      "execution_count": null,
      "outputs": []
    },
    {
      "cell_type": "code",
      "metadata": {
        "id": "lSt4g27LhVxF"
      },
      "source": [
        "print(test_data.show())"
      ],
      "execution_count": null,
      "outputs": []
    },
    {
      "cell_type": "code",
      "metadata": {
        "id": "-rhjUQIYhVzL"
      },
      "source": [
        "train_data = train_data.select(\"Temperature\", \"Water\", \"Atmosphere Color\", \"Habitable\")\n",
        "test_data = test_data.select(\"Temperature\", \"Water\", \"Atmosphere Color\", \"Habitable\")"
      ],
      "execution_count": null,
      "outputs": []
    },
    {
      "cell_type": "code",
      "metadata": {
        "id": "FQneww5Xh7bX"
      },
      "source": [
        "train_data = train_data.na.drop()\n",
        "test_data = test_data.na.drop()"
      ],
      "execution_count": null,
      "outputs": []
    },
    {
      "cell_type": "code",
      "metadata": {
        "id": "KF6bkvfeiAUg",
        "outputId": "8b400cee-c4e1-460a-c811-f24da91cfd6b",
        "colab": {
          "base_uri": "https://localhost:8080/",
          "height": 474
        }
      },
      "source": [
        "print(train_data.show())"
      ],
      "execution_count": null,
      "outputs": [
        {
          "output_type": "stream",
          "text": [
            "+-----------+------+----------------+---------+\n",
            "|Temperature| Water|Atmosphere Color|Habitable|\n",
            "+-----------+------+----------------+---------+\n",
            "|     323488|Medium|          Yellow|        1|\n",
            "|     319279|   Low|          Yellow|        1|\n",
            "|     315375|   Low|          Yellow|        1|\n",
            "|     302312|Medium|          Yellow|        1|\n",
            "|     329687|   Low|          Yellow|        1|\n",
            "|     265746|  High|             Red|        0|\n",
            "|     305214|  High|          Yellow|        1|\n",
            "|     299936|  High|          Yellow|        0|\n",
            "|     269577|Medium|             Red|        1|\n",
            "|     303631|  High|             Red|        0|\n",
            "|     290051|  High|             Red|        0|\n",
            "|     306122|   Low|          Yellow|        1|\n",
            "|     300635|   Low|          Yellow|        1|\n",
            "|     312152|  High|            Blue|        0|\n",
            "|     265942|Medium|            Blue|        0|\n",
            "|     307368|  High|             Red|        0|\n",
            "|     276274|Medium|          Yellow|        1|\n",
            "|     308531|Medium|          Yellow|        1|\n",
            "|     329561|   Low|          Yellow|        1|\n",
            "|     327860|Medium|          Yellow|        1|\n",
            "+-----------+------+----------------+---------+\n",
            "only showing top 20 rows\n",
            "\n",
            "None\n"
          ],
          "name": "stdout"
        }
      ]
    },
    {
      "cell_type": "code",
      "metadata": {
        "id": "xkasMvbRiDZD",
        "outputId": "2a2c04ee-fef7-48e9-e55d-6808b7b02154",
        "colab": {
          "base_uri": "https://localhost:8080/",
          "height": 102
        }
      },
      "source": [
        "print(train_data.toPandas().isna().sum())"
      ],
      "execution_count": null,
      "outputs": [
        {
          "output_type": "stream",
          "text": [
            "Temperature         0\n",
            "Water               0\n",
            "Atmosphere Color    0\n",
            "Habitable           0\n",
            "dtype: int64\n"
          ],
          "name": "stdout"
        }
      ]
    },
    {
      "cell_type": "code",
      "metadata": {
        "id": "TzZStXNuiDbs"
      },
      "source": [
        "def transform_data(data):\n",
        "  #mapping \n",
        "  #low = 0 , med = 1, high = 2\n",
        "  #red = 0, blue = 1, yellow = 2\n",
        "  data = data.withColumn(\"Water\", when(data[\"Water\"] == \"Low\", 0).when(data[\"Water\"] == \"Medium\", 1).otherwise(2))\n",
        "  data = data.withColumn(\"Atmosphere Color\", when(data[\"Atmosphere Color\"] == \"Red\", 0).when(data[\"Atmosphere Color\"] == \"Blue\", 1).otherwise(2))\n",
        "\n",
        "  cols = data.columns \n",
        "  cols.remove(\"Habitable\")\n",
        "  data = VectorAssembler(inputCols=cols, outputCol=\"Feature\").transform(data)\n",
        "\n",
        "  #range = 0-1\n",
        "  scaler = StandardScaler(inputCol=\"Feature\", outputCol=\"Scaled from Feature\")\n",
        "  data = scaler.fit(data).transform(data)\n",
        "\n",
        "  return data\n"
      ],
      "execution_count": null,
      "outputs": []
    },
    {
      "cell_type": "code",
      "metadata": {
        "id": "DikXsq6RiDeU",
        "outputId": "75ad7be0-ac0e-4a10-f8d2-6a3ba7336f4d",
        "colab": {
          "base_uri": "https://localhost:8080/",
          "height": 494
        }
      },
      "source": [
        "train_data = transform_data(train_data)\n",
        "print(train_data.show(truncate=False))"
      ],
      "execution_count": null,
      "outputs": [
        {
          "output_type": "stream",
          "text": [
            "+-----------+-----+----------------+---------+------------------+----------------------------------------------------------+\n",
            "|Temperature|Water|Atmosphere Color|Habitable|Feature           |Scaled from Feature                                       |\n",
            "+-----------+-----+----------------+---------+------------------+----------------------------------------------------------+\n",
            "|323488     |1    |2               |1        |[323488.0,1.0,2.0]|[16.528785880945723,1.1149523301813882,2.1757737802526984]|\n",
            "|319279     |0    |2               |1        |[319279.0,0.0,2.0]|[16.31372485929144,0.0,2.1757737802526984]                |\n",
            "|315375     |0    |2               |1        |[315375.0,0.0,2.0]|[16.11424796964109,0.0,2.1757737802526984]                |\n",
            "|302312     |1    |2               |1        |[302312.0,1.0,2.0]|[15.446787260239834,1.1149523301813882,2.1757737802526984]|\n",
            "|329687     |0    |2               |1        |[329687.0,0.0,2.0]|[16.845526976986324,0.0,2.1757737802526984]               |\n",
            "|265746     |2    |0               |0        |[265746.0,2.0,0.0]|[13.57842866726989,2.2299046603627763,0.0]                |\n",
            "|305214     |2    |2               |1        |[305214.0,2.0,2.0]|[15.595066444093654,2.2299046603627763,2.1757737802526984]|\n",
            "|299936     |2    |2               |0        |[299936.0,2.0,2.0]|[15.325384317153453,2.2299046603627763,2.1757737802526984]|\n",
            "|269577     |1    |0               |1        |[269577.0,1.0,0.0]|[13.774175584342247,1.1149523301813882,0.0]               |\n",
            "|303631     |2    |0               |0        |[303631.0,2.0,0.0]|[15.5141822442175,2.2299046603627763,0.0]                 |\n",
            "|290051     |2    |0               |0        |[290051.0,2.0,0.0]|[14.820305153681705,2.2299046603627763,0.0]               |\n",
            "|306122     |0    |2               |1        |[306122.0,0.0,2.0]|[15.641461171502085,0.0,2.1757737802526984]               |\n",
            "|300635     |0    |2               |1        |[300635.0,0.0,2.0]|[15.361100081975582,0.0,2.1757737802526984]               |\n",
            "|312152     |2    |1               |0        |[312152.0,2.0,1.0]|[15.949567125547064,2.2299046603627763,1.0878868901263492]|\n",
            "|265942     |1    |1               |0        |[265942.0,1.0,1.0]|[13.58844338816422,1.1149523301813882,1.0878868901263492] |\n",
            "|307368     |2    |0               |0        |[307368.0,2.0,0.0]|[15.705126182901761,2.2299046603627763,0.0]               |\n",
            "|276274     |1    |2               |1        |[276274.0,1.0,2.0]|[14.116362246736815,1.1149523301813882,2.1757737802526984]|\n",
            "|308531     |1    |2               |1        |[308531.0,1.0,2.0]|[15.764550266575776,1.1149523301813882,2.1757737802526984]|\n",
            "|329561     |0    |2               |1        |[329561.0,0.0,2.0]|[16.839088942125684,0.0,2.1757737802526984]               |\n",
            "|327860     |1    |2               |1        |[327860.0,1.0,2.0]|[16.752175471507023,1.1149523301813882,2.1757737802526984]|\n",
            "+-----------+-----+----------------+---------+------------------+----------------------------------------------------------+\n",
            "only showing top 20 rows\n",
            "\n",
            "None\n"
          ],
          "name": "stdout"
        }
      ]
    },
    {
      "cell_type": "code",
      "metadata": {
        "id": "86up7AWXpPFO"
      },
      "source": [
        "model = LogisticRegression(featuresCol='Scaled from Feature', labelCol='Habitable', maxIter=10).fit(train_data)"
      ],
      "execution_count": null,
      "outputs": []
    },
    {
      "cell_type": "code",
      "metadata": {
        "id": "1H-vCKH2zHwP"
      },
      "source": [
        "test_data = transform_data(test_data)"
      ],
      "execution_count": null,
      "outputs": []
    },
    {
      "cell_type": "code",
      "metadata": {
        "id": "pbe7jlgDy1Yq"
      },
      "source": [
        "prediction = model.transform(test_data)"
      ],
      "execution_count": null,
      "outputs": []
    },
    {
      "cell_type": "code",
      "metadata": {
        "id": "z79Zp9tozPn8",
        "outputId": "5272d034-b9e9-4011-d1ac-6bdf2c5c6738",
        "colab": {
          "base_uri": "https://localhost:8080/",
          "height": 494
        }
      },
      "source": [
        "print(prediction.show(truncate=False))"
      ],
      "execution_count": null,
      "outputs": [
        {
          "output_type": "stream",
          "text": [
            "+-----------+-----+----------------+---------+------------------+----------------------------------------------------------+------------------------------------------+-----------------------------------------+----------+\n",
            "|Temperature|Water|Atmosphere Color|Habitable|Feature           |Scaled from Feature                                       |rawPrediction                             |probability                              |prediction|\n",
            "+-----------+-----+----------------+---------+------------------+----------------------------------------------------------+------------------------------------------+-----------------------------------------+----------+\n",
            "|325145     |2    |2               |1        |[325145.0,2.0,2.0]|[16.63133396133679,2.2249855521505073,2.182714540097035]  |[-0.5960950727923429,0.5960950727923429]  |[0.35523758686965035,0.6447624131303497] |1.0       |\n",
            "|269079     |1    |0               |0        |[269079.0,1.0,0.0]|[13.763529228444362,1.1124927760752537,0.0]               |[2.9990851459994414,-2.9990851459994414]  |[0.9525327796580815,0.047467220341918595]|0.0       |\n",
            "|302996     |2    |2               |1        |[302996.0,2.0,2.0]|[15.49840122083748,2.2249855521505073,2.182714540097035]  |[-0.21227586727180725,0.21227586727180725]|[0.4471294178744789,0.5528705821255211]  |1.0       |\n",
            "|312604     |2    |2               |1        |[312604.0,2.0,2.0]|[15.98985536191461,2.2249855521505073,2.182714540097035]  |[-0.3787725455255124,0.3787725455255124]  |[0.4064229782386941,0.5935770217613059]  |1.0       |\n",
            "|280875     |0    |2               |1        |[280875.0,0.0,2.0]|[14.366900694737643,0.0,2.182714540097035]                |[-3.051192266225736,3.051192266225736]    |[0.04516602784914217,0.9548339721508579] |1.0       |\n",
            "|306384     |2    |0               |0        |[306384.0,2.0,0.0]|[15.671699163174003,2.2249855521505073,0.0]               |[3.9637533712435413,-3.9637533712435413]  |[0.9813622647713486,0.018637735228651423]|0.0       |\n",
            "|303007     |2    |2               |1        |[303007.0,2.0,2.0]|[15.498963876494416,2.2249855521505073,2.182714540097035] |[-0.21246648586681083,0.21246648586681083]|[0.447082296536629,0.552917703463371]    |1.0       |\n",
            "|297965     |2    |0               |0        |[297965.0,2.0,0.0]|[15.24106298356031,2.2249855521505073,0.0]                |[4.109645912273718,-4.109645912273718]    |[0.9838514699299491,0.016148530070050817]|0.0       |\n",
            "|290305     |2    |1               |0        |[290305.0,2.0,1.0]|[14.849250044275252,2.2249855521505073,1.0913572700485175]|[2.1250158873605076,-2.1250158873605076]  |[0.8933109202328527,0.10668907976714725] |0.0       |\n",
            "|316596     |2    |0               |0        |[316596.0,2.0,0.0]|[16.19404821486839,2.2249855521505073,0.0]                |[3.7867899992278433,-3.7867899992278433]  |[0.9778342094002656,0.022165790599734437]|0.0       |\n",
            "|266840     |0    |2               |1        |[266840.0,0.0,2.0]|[13.649003227000597,0.0,2.182714540097035]                |[-2.807980267964834,2.807980267964834]    |[0.056894457597018194,0.9431055424029817]|1.0       |\n",
            "|324187     |0    |2               |1        |[324187.0,0.0,2.0]|[16.582331768669025,0.0,2.182714540097035]                |[-3.8017443195692477,3.8017443195692477]  |[0.021843969288562404,0.9781560307114376]|1.0       |\n",
            "|327198     |0    |2               |1        |[327198.0,0.0,2.0]|[16.736345967126898,0.0,2.182714540097035]                |[-3.853921827710578,3.853921827710578]    |[0.0207564808216253,0.9792435191783748]  |1.0       |\n",
            "|310018     |2    |2               |0        |[310018.0,2.0,2.0]|[15.857580132020203,2.2249855521505073,2.182714540097035] |[-0.33395984673657786,0.33395984673657786]|[0.4172774445405871,0.5827225554594129]  |1.0       |\n",
            "|302718     |2    |1               |1        |[302718.0,2.0,1.0]|[15.48418137787126,2.2249855521505073,1.0913572700485175] |[1.9099114673809856,-1.9099114673809856]  |[0.8710092013483932,0.12899079865160684] |0.0       |\n",
            "|301697     |0    |2               |1        |[301697.0,0.0,2.0]|[15.431956702804674,0.0,2.182714540097035]                |[-3.412015937603612,3.412015937603612]    |[0.0319220401021716,0.9680779598978283]  |1.0       |\n",
            "|316071     |1    |2               |1        |[316071.0,1.0,2.0]|[16.167194194878224,1.1124927760752537,2.182714540097035] |[-2.049977257630567,2.049977257630567]    |[0.1140546792898449,0.8859453207101551]  |1.0       |\n",
            "|271765     |0    |2               |1        |[271765.0,0.0,2.0]|[13.900919509765467,0.0,2.182714540097035]                |[-2.893325411636723,2.893325411636723]    |[0.052484499806755215,0.9475155001932448]|1.0       |\n",
            "|269497     |2    |1               |0        |[269497.0,2.0,1.0]|[13.78491014340796,2.2249855521505073,1.0913572700485175] |[2.4855969532538347,-2.4855969532538347]  |[0.9231259243947806,0.07687407560521936] |0.0       |\n",
            "|311830     |2    |0               |0        |[311830.0,2.0,0.0]|[15.950264863871968,2.2249855521505073,0.0]               |[3.869379837753775,-3.869379837753775]    |[0.979555396624292,0.020444603375707852] |0.0       |\n",
            "+-----------+-----+----------------+---------+------------------+----------------------------------------------------------+------------------------------------------+-----------------------------------------+----------+\n",
            "only showing top 20 rows\n",
            "\n",
            "None\n"
          ],
          "name": "stdout"
        }
      ]
    },
    {
      "cell_type": "code",
      "metadata": {
        "id": "Q3fMYAml6dR_"
      },
      "source": [
        "eval= BinaryClassificationEvaluator(labelCol=\"Habitable\")\n",
        " "
      ],
      "execution_count": null,
      "outputs": []
    },
    {
      "cell_type": "code",
      "metadata": {
        "id": "u4aUeZVw79DK"
      },
      "source": [
        "acc = eval.evaluate(prediction)\n"
      ],
      "execution_count": null,
      "outputs": []
    },
    {
      "cell_type": "code",
      "metadata": {
        "id": "Ju7YppyV7-OY",
        "outputId": "4f0eea56-b99c-4a29-d739-8509dec5727b",
        "colab": {
          "base_uri": "https://localhost:8080/",
          "height": 34
        }
      },
      "source": [
        "print(\"Acuraccy : \",acc*100)"
      ],
      "execution_count": null,
      "outputs": [
        {
          "output_type": "stream",
          "text": [
            "Acuraccy :  91.71043337232418\n"
          ],
          "name": "stdout"
        }
      ]
    }
  ]
}